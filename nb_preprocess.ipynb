{
  "nbformat": 4,
  "nbformat_minor": 0,
  "metadata": {
    "colab": {
      "name": "nb_preprocess",
      "provenance": [],
      "collapsed_sections": [],
      "toc_visible": true,
      "authorship_tag": "ABX9TyPVaY2ec7ZNtDHm9qgk8jTL",
      "include_colab_link": true
    },
    "kernelspec": {
      "name": "python3",
      "display_name": "Python 3"
    },
    "language_info": {
      "name": "python"
    }
  },
  "cells": [
    {
      "cell_type": "markdown",
      "metadata": {
        "id": "view-in-github",
        "colab_type": "text"
      },
      "source": [
        "<a href=\"https://colab.research.google.com/github/kurtlee1984/ML_20210602/blob/main/nb_preprocess.ipynb\" target=\"_parent\"><img src=\"https://colab.research.google.com/assets/colab-badge.svg\" alt=\"Open In Colab\"/></a>"
      ]
    },
    {
      "cell_type": "code",
      "metadata": {
        "id": "Jjg_-wkCyEY-",
        "colab": {
          "base_uri": "https://localhost:8080/"
        },
        "outputId": "e020d7f2-95ce-4917-c305-18e672260c0e"
      },
      "source": [
        "!pip install opencc-python-reimplemented"
      ],
      "execution_count": 18,
      "outputs": [
        {
          "output_type": "stream",
          "text": [
            "Requirement already satisfied: opencc-python-reimplemented in /usr/local/lib/python3.7/dist-packages (0.1.6)\n"
          ],
          "name": "stdout"
        }
      ]
    },
    {
      "cell_type": "code",
      "metadata": {
        "id": "LStb01f8Yewh"
      },
      "source": [
        "to_convert = \"\"\"　眼下，大学毕业生就业进入冲刺期。2021年全国普通高校毕业生909万，再创历史新高。稳定和扩大就业的压力不容小觑。《经济参考报》记者了解到，从中央部委到地方，促就业创业暖招正在集中发力，从减负稳岗到政策性岗位吸纳，从力挺创业创新到拓宽市场化就业渠道，从强化职业培训到进一步支持发展新就业形态，多措并举助力高校毕业生迎战就业季，实现更加充分更高质量就业。\n",
        "\n",
        "　　“2021届全国普通高校毕业生总规模909万，同比增加35万。”教育部高校学生司司长王辉在教育部举行的新闻发布会上坦言，疫情对就业的深层次影响仍在持续，2021届高校毕业生就业形势依然复杂严峻。\"\"\""
      ],
      "execution_count": 19,
      "outputs": []
    },
    {
      "cell_type": "code",
      "metadata": {
        "colab": {
          "base_uri": "https://localhost:8080/",
          "height": 90
        },
        "id": "PsGgNcx3YfGb",
        "outputId": "1d83593a-5ad4-430d-df32-5910671224a8"
      },
      "source": [
        "from opencc import OpenCC\n",
        "cc = OpenCC('s2tw')\n",
        "converted = cc.convert(to_convert)\n",
        "converted"
      ],
      "execution_count": 20,
      "outputs": [
        {
          "output_type": "execute_result",
          "data": {
            "application/vnd.google.colaboratory.intrinsic+json": {
              "type": "string"
            },
            "text/plain": [
              "'\\u3000眼下，大學畢業生就業進入衝刺期。2021年全國普通高校畢業生909萬，再創歷史新高。穩定和擴大就業的壓力不容小覷。《經濟參考報》記者瞭解到，從中央部委到地方，促就業創業暖招正在集中發力，從減負穩崗到政策性崗位吸納，從力挺創業創新到拓寬市場化就業渠道，從強化職業培訓到進一步支持發展新就業形態，多措並舉助力高校畢業生迎戰就業季，實現更加充分更高質量就業。\\n\\n\\u3000\\u3000“2021屆全國普通高校畢業生總規模909萬，同比增加35萬。”教育部高校學生司司長王輝在教育部舉行的新聞發佈會上坦言，疫情對就業的深層次影響仍在持續，2021屆高校畢業生就業形勢依然複雜嚴峻。'"
            ]
          },
          "metadata": {
            "tags": []
          },
          "execution_count": 20
        }
      ]
    },
    {
      "cell_type": "code",
      "metadata": {
        "colab": {
          "base_uri": "https://localhost:8080/",
          "height": 127
        },
        "id": "wNSyELzGeIyS",
        "outputId": "137cd46b-39a9-46a2-ccee-962b70948efc"
      },
      "source": [
        "with open(\"./news.txt\", \"r\", encoding=\"utf-8\") as f:\n",
        "  content = f.read()\n",
        "content"
      ],
      "execution_count": 21,
      "outputs": [
        {
          "output_type": "execute_result",
          "data": {
            "application/vnd.google.colaboratory.intrinsic+json": {
              "type": "string"
            },
            "text/plain": [
              "'法國總統馬克宏（Emmanuel Macron）8日訪問法國東南部德龍省（Drôme）時，竟然遭人甩了一巴掌，畫面一出震撼整個法國，對此馬克宏做出回應，兩名涉案男子則面臨3年監禁以及5萬美元（約台幣138萬元）的罰金。\\n綜合外媒報導，馬克宏8日訪問德龍省，在向圍欄外的民眾打招呼時，被一名男子甩了一巴掌，過程全被一旁民眾拍下，當時該名男子突然高喊「打倒馬克宏」（A Bas La Macronie），隨後甩了馬克宏一巴掌，隨扈見狀立刻上前攔住男子。\\n報導指出，有兩名28歲男子於當日下午被警方依暴力襲擊公職人員罪行逮捕，馬克宏最大的政治對手，極右派的瑪琳·勒朋（Marine Le Pen）也對攻擊事件做出抨擊，認為襲擊總統是讓人完全無法接受的，「我們可以在政治上攻擊他，但在民主之下，任何對他的暴力行為都應受到譴責」。\\n被攻擊的幾個小時後，馬克宏在接受當地報紙訪問時做出回應，他淡化整件事，稱「一切都沒事」，並認為這是單一事件，「不應讓這件事佔據其他更重要議題的討論空間」，馬克宏說，一個國家不應該讓少數的暴力份子成為公眾討論的焦點，「他們並不值得」，他也強調，這起意外不會阻止他接觸大眾。'"
            ]
          },
          "metadata": {
            "tags": []
          },
          "execution_count": 21
        }
      ]
    },
    {
      "cell_type": "code",
      "metadata": {
        "colab": {
          "base_uri": "https://localhost:8080/"
        },
        "id": "sXWn3wdiiOLH",
        "outputId": "4eaac1e6-5364-4b6e-9761-978369bd2285"
      },
      "source": [
        "import jieba.analyse\n",
        "print(jieba.analyse.extract_tags(content))\n",
        "print(jieba.analyse.extract_tags(content, topK=5, allowPOS=[\"n\"]))"
      ],
      "execution_count": 22,
      "outputs": [
        {
          "output_type": "stream",
          "text": [
            "['馬克', '法國', '訪問', '攻擊', '男子', '一巴掌', '暴力', '總統', '德龍省', '回應', '兩名', '報導', '民眾', '襲擊', '討論', '做出', '整件事', 'Emmanuel', 'Macron', '東南部']\n",
            "['男子', '暴力', '民眾', '整件事', '台幣']\n"
          ],
          "name": "stdout"
        }
      ]
    },
    {
      "cell_type": "code",
      "metadata": {
        "id": "4wk77OBCswqA",
        "colab": {
          "base_uri": "https://localhost:8080/"
        },
        "outputId": "98de7281-5d86-4041-9c55-9a5dcbccf2b4"
      },
      "source": [
        "import jieba\n",
        "from urllib.request import urlretrieve\n",
        "url = \"https://github.com/fxsjy/jieba/raw/master/extra_dict/dict.txt.big\"\n",
        "urlretrieve(url, \"dict.txt.big\")"
      ],
      "execution_count": 23,
      "outputs": [
        {
          "output_type": "execute_result",
          "data": {
            "text/plain": [
              "('dict.txt.big', <http.client.HTTPMessage at 0x7f5ec19576d0>)"
            ]
          },
          "metadata": {
            "tags": []
          },
          "execution_count": 23
        }
      ]
    },
    {
      "cell_type": "code",
      "metadata": {
        "colab": {
          "base_uri": "https://localhost:8080/"
        },
        "id": "aJBM6wVjs8dj",
        "outputId": "39fb8ec6-c6f6-4e2b-c420-b69bd2d69e0b"
      },
      "source": [
        "c = \" \".join(jieba.cut(content))\n",
        "print(c)\n",
        "print(\"-\" * 30)\n",
        "jieba.set_dictionary(\"dict.txt.big\")\n",
        "c = \" \".join(jieba.cut(content))\n",
        "print(c)"
      ],
      "execution_count": 24,
      "outputs": [
        {
          "output_type": "stream",
          "text": [
            "Building prefix dict from /content/dict.txt.big ...\n"
          ],
          "name": "stderr"
        },
        {
          "output_type": "stream",
          "text": [
            "法國 總統 馬克 宏 （ Emmanuel   Macron ） 8 日 訪問 法國 東南部 德龍省 （ Dr ô me ） 時 ， 竟然 遭人 甩 了 一巴掌 ， 畫面 一出 震撼 整個 法國 ， 對此 馬克 宏 做出 回應 ， 兩名 涉案 男子 則 面臨 3 年 監禁 以及 5 萬美元 （ 約 台幣 138 萬元 ） 的 罰金 。 \n",
            " 綜合 外媒 報導 ， 馬克 宏 8 日 訪問 德龍省 ， 在 向 圍欄 外 的 民眾 打招呼 時 ， 被 一名 男子 甩 了 一巴掌 ， 過程 全 被 一旁 民眾 拍下 ， 當時 該名 男子 突然 高喊 「 打倒 馬克 宏 」 （ A   Bas   La   Macronie ） ， 隨後 甩 了 馬克 宏 一巴掌 ， 隨扈 見狀 立刻 上前 攔住 男子 。 \n",
            " 報導 指出 ， 有 兩名 28 歲 男子 於 當日 下午 被 警方 依 暴力 襲擊 公職人員 罪行 逮捕 ， 馬克 宏 最大 的 政治 對手 ， 極右派 的 瑪琳 · 勒朋 （ Marine   Le   Pen ） 也 對 攻擊 事件 做出 抨擊 ， 認為 襲擊 總統 是 讓 人 完全 無法 接受 的 ， 「 我們 可以 在政治上 攻擊 他 ， 但 在 民主 之下 ， 任何 對 他 的 暴力 行為 都 應 受到譴責 」 。 \n",
            " 被 攻擊 的 幾個 小時 後 ， 馬克 宏在 接受 當地 報紙 訪問 時 做出 回應 ， 他 淡化 整件事 ， 稱 「 一切 都 沒事 」 ， 並認 為 這是 單一 事件 ， 「 不應 讓 這件 事 佔據 其他 更 重要 議題 的 討論 空間 」 ， 馬克 宏說 ， 一個 國家 不 應該 讓 少數 的 暴力 份子 成為 公眾 討論 的 焦點 ， 「 他們 並不 值得 」 ， 他 也 強調 ， 這起 意外 不會 阻止 他 接觸 大眾 。\n",
            "------------------------------\n"
          ],
          "name": "stdout"
        },
        {
          "output_type": "stream",
          "text": [
            "Dumping model to file cache /tmp/jieba.u501edca284da514cb68b53a20324f4e3.cache\n",
            "Loading model cost 1.824 seconds.\n",
            "Prefix dict has been built successfully.\n"
          ],
          "name": "stderr"
        },
        {
          "output_type": "stream",
          "text": [
            "法國 總統 馬克 宏 （ Emmanuel   Macron ） 8 日 訪問 法國 東南部 德龍省 （ Dr ô me ） 時 ， 竟然 遭人 甩 了 一巴掌 ， 畫面 一出 震撼 整個 法國 ， 對此 馬克 宏 做出 回應 ， 兩名 涉案 男子 則 面臨 3 年 監禁 以及 5 萬美元 （ 約 台幣 138 萬元 ） 的 罰金 。 \n",
            " 綜合 外媒 報導 ， 馬克 宏 8 日 訪問 德龍省 ， 在 向 圍欄 外 的 民眾 打招呼 時 ， 被 一名 男子 甩 了 一巴掌 ， 過程 全 被 一旁 民眾 拍下 ， 當時 該名 男子 突然 高喊 「 打倒 馬克 宏 」 （ A   Bas   La   Macronie ） ， 隨後 甩 了 馬克 宏 一巴掌 ， 隨扈 見狀 立刻 上前 攔住 男子 。 \n",
            " 報導 指出 ， 有 兩名 28 歲 男子 於 當日 下午 被 警方 依 暴力 襲擊 公職人員 罪行 逮捕 ， 馬克 宏 最大 的 政治 對手 ， 極右派 的 瑪琳 · 勒朋 （ Marine   Le   Pen ） 也 對 攻擊 事件 做出 抨擊 ， 認為 襲擊 總統 是 讓 人 完全 無法 接受 的 ， 「 我們 可以 在政治上 攻擊 他 ， 但 在 民主 之下 ， 任何 對 他 的 暴力 行為 都 應 受到譴責 」 。 \n",
            " 被 攻擊 的 幾個 小時 後 ， 馬克 宏在 接受 當地 報紙 訪問 時 做出 回應 ， 他 淡化 整件事 ， 稱 「 一切 都 沒事 」 ， 並認 為 這是 單一 事件 ， 「 不應 讓 這件 事 佔據 其他 更 重要 議題 的 討論 空間 」 ， 馬克 宏說 ， 一個 國家 不 應該 讓 少數 的 暴力 份子 成為 公眾 討論 的 焦點 ， 「 他們 並不 值得 」 ， 他 也 強調 ， 這起 意外 不會 阻止 他 接觸 大眾 。\n"
          ],
          "name": "stdout"
        }
      ]
    },
    {
      "cell_type": "code",
      "metadata": {
        "id": "NRVluYJqt2Kv",
        "colab": {
          "base_uri": "https://localhost:8080/"
        },
        "outputId": "a6dd4a38-c798-4ba3-a23a-8ff8d6262feb"
      },
      "source": [
        "jieba.load_userdict(\"mydict.txt\")\n",
        "c = \" \".join(jieba.cut(content))\n",
        "print(c)"
      ],
      "execution_count": 27,
      "outputs": [
        {
          "output_type": "stream",
          "text": [
            "法國 總統 馬克宏 （ Emmanuel   Macron ） 8 日 訪問 法國 東南部 德龍省 （ Dr ô me ） 時 ， 竟然 遭人 甩 了 一巴掌 ， 畫面 一出 震撼 整個 法國 ， 對此 馬克宏 做出 回應 ， 兩名 涉案 男子 則 面臨 3 年 監禁 以及 5 萬美元 （ 約 台幣 138 萬元 ） 的 罰金 。 \n",
            " 綜合 外媒 報導 ， 馬克宏 8 日 訪問 德龍省 ， 在 向 圍欄 外 的 民眾 打招呼 時 ， 被 一名 男子 甩 了 一巴掌 ， 過程 全 被 一旁 民眾 拍下 ， 當時 該名 男子 突然 高喊 「 打倒 馬克宏 」 （ A   Bas   La   Macronie ） ， 隨後 甩 了 馬克宏 一巴掌 ， 隨扈 見狀 立刻 上前 攔住 男子 。 \n",
            " 報導 指出 ， 有 兩名 28 歲 男子 於 當日 下午 被 警方 依 暴力 襲擊 公職人員 罪行 逮捕 ， 馬克宏 最大 的 政治 對手 ， 極右派 的 瑪琳 · 勒朋 （ Marine   Le   Pen ） 也 對 攻擊 事件 做出 抨擊 ， 認為 襲擊 總統 是 讓 人 完全 無法 接受 的 ， 「 我們 可以 在政治上 攻擊 他 ， 但 在 民主 之下 ， 任何 對 他 的 暴力 行為 都 應 受到譴責 」 。 \n",
            " 被 攻擊 的 幾個 小時 後 ， 馬克宏 在 接受 當地 報紙 訪問 時 做出 回應 ， 他 淡化 整件事 ， 稱 「 一切 都 沒事 」 ， 並 認為 這是 單一 事件 ， 「 不應 讓 這件 事 佔據 其他 更 重要 議題 的 討論 空間 」 ， 馬克宏 說 ， 一個 國家 不 應該 讓 少數 的 暴力 份子 成為 公眾 討論 的 焦點 ， 「 他們 並不 值得 」 ， 他 也 強調 ， 這起 意外 不會 阻止 他 接觸 大眾 。\n"
          ],
          "name": "stdout"
        }
      ]
    }
  ]
}