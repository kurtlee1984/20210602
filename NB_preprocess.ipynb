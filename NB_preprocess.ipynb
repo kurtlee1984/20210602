{
  "nbformat": 4,
  "nbformat_minor": 0,
  "metadata": {
    "colab": {
      "name": "NB_preprocess.ipynb",
      "provenance": [],
      "authorship_tag": "ABX9TyOpb8xGchxRm17Qs1MqOVvx",
      "include_colab_link": true
    },
    "kernelspec": {
      "name": "python3",
      "display_name": "Python 3"
    },
    "language_info": {
      "name": "python"
    }
  },
  "cells": [
    {
      "cell_type": "markdown",
      "metadata": {
        "id": "view-in-github",
        "colab_type": "text"
      },
      "source": [
        "<a href=\"https://colab.research.google.com/github/kurtlee1984/Machine_Learning/blob/main/NB_preprocess.ipynb\" target=\"_parent\"><img src=\"https://colab.research.google.com/assets/colab-badge.svg\" alt=\"Open In Colab\"/></a>"
      ]
    },
    {
      "cell_type": "code",
      "metadata": {
        "colab": {
          "base_uri": "https://localhost:8080/"
        },
        "id": "UqRYJdkZKua9",
        "outputId": "c3325b08-a968-4de9-c4c2-b4295d7c6a33"
      },
      "source": [
        "!pip install opencc-python-reimplemented"
      ],
      "execution_count": 2,
      "outputs": [
        {
          "output_type": "stream",
          "text": [
            "Collecting opencc-python-reimplemented\n",
            "  Using cached https://files.pythonhosted.org/packages/04/aa/02c5ffc87e2bf1da1f476d35aa4de69cad2cfc3140e37114755c454d1231/opencc-python-reimplemented-0.1.6.tar.gz\n",
            "Building wheels for collected packages: opencc-python-reimplemented\n",
            "  Building wheel for opencc-python-reimplemented (setup.py) ... \u001b[?25l\u001b[?25hdone\n",
            "  Created wheel for opencc-python-reimplemented: filename=opencc_python_reimplemented-0.1.6-py2.py3-none-any.whl size=486151 sha256=f23abcc16ac29c584654f8ee1c25b8d2942b2b43c8c1829299bc319d393eabdf\n",
            "  Stored in directory: /root/.cache/pip/wheels/54/8a/0f/405db0ba3f02d9af8211422d3ae94c47b3296256f168ac1e68\n",
            "Successfully built opencc-python-reimplemented\n",
            "Installing collected packages: opencc-python-reimplemented\n",
            "Successfully installed opencc-python-reimplemented-0.1.6\n"
          ],
          "name": "stdout"
        }
      ]
    },
    {
      "cell_type": "code",
      "metadata": {
        "id": "7dw_8tAaNVjZ"
      },
      "source": [
        "to_convert = \"\"\"日本防卫省已汇整2021年版“防卫白皮书”草案，对中共在台湾周边军事活动益加频繁，首度提及“台湾情势的稳定，对我国安全保障及国际社会稳定来说很重要”。\n",
        "日本朝日新闻报导，正式版的防卫白皮书将说明日本防卫省政策、自卫队活动及周边国家动态等，预计7月汇整完成。\n",
        "防卫白皮书草案从中共国防预算是日本防卫相关预算约4倍、达约20兆日圆（约新台币5兆元）规模等来看其军事动向，载明“是包括我国在内的地区及国际社会安全保障的强烈忧虑”。\n",
        "草案还触及欠缺透明度的中国国防预算增加，及广泛且快速强化包括核武、弹道飞弹能力等以海空作战能力为主的军事力量。\n",
        "有关台湾情势，草案提及中共在台湾周边的军事活动更加频繁，也指出美国在军事方面协防台湾的态度明确，强调站在日本立场有必要持续关注。\n",
        "草案提到今年政党轮替的美国，认为必须关注美国修正全球战力态势的动向；至于在美中关系的项目中，草案分析“（美中）在技术领域的竞争有可能更加激烈”。\n",
        "有关今年3月试射新型弹道飞弹的朝鲜，草案认为“对我国安全是重大且迫切威胁”，持续表达强烈警戒感。谈到俄罗斯部分，草案指出，近年来有将最新式装备部署在远东方面的倾向。\"\"\""
      ],
      "execution_count": 17,
      "outputs": []
    },
    {
      "cell_type": "markdown",
      "metadata": {
        "id": "dQRZ8qFWOKAf"
      },
      "source": [
        ""
      ]
    },
    {
      "cell_type": "code",
      "metadata": {
        "colab": {
          "base_uri": "https://localhost:8080/",
          "height": 125
        },
        "id": "viDMSVhMLcUE",
        "outputId": "9ec85704-4673-406f-e611-a2def4b67137"
      },
      "source": [
        "from opencc import OpenCC\n",
        "cc = OpenCC(\"s2twp\")\n",
        "converted = cc.convert(to_convert)\n",
        "converted"
      ],
      "execution_count": 18,
      "outputs": [
        {
          "output_type": "execute_result",
          "data": {
            "application/vnd.google.colaboratory.intrinsic+json": {
              "type": "string"
            },
            "text/plain": [
              "'日本防衛省已彙整2021年版“防衛白皮書”草案，對中共在臺灣周邊軍事活動益加頻繁，首度提及“臺灣情勢的穩定，對我國安全保障及國際社會穩定來說很重要”。\\n日本朝日新聞報導，正式版的防衛白皮書將說明日本防衛省政策、自衛隊活動及周邊國家動態等，預計7月彙整完成。\\n防衛白皮書草案從中共國防預算是日本防衛相關預算約4倍、達約20兆日圓（約新臺幣5兆元）規模等來看其軍事動向，載明“是包括我國在內的地區及國際社會安全保障的強烈憂慮”。\\n草案還觸及欠缺透明度的中國國防預算增加，及廣泛且快速強化包括核武、彈道飛彈能力等以海空作戰能力為主的軍事力量。\\n有關臺灣情勢，草案提及中共在臺灣周邊的軍事活動更加頻繁，也指出美國在軍事方面協防颱灣的態度明確，強調站在日本立場有必要持續關注。\\n草案提到今年政黨輪替的美國，認為必須關注美國修正全球戰力態勢的動向；至於在美中關係的專案中，草案分析“（美中）在技術領域的競爭有可能更加激烈”。\\n有關今年3月試射新型彈道飛彈的朝鮮，草案認為“對我國安全是重大且迫切威脅”，持續表達強烈警戒感。談到俄羅斯部分，草案指出，近年來有將最新式裝備部署在遠東方面的傾向。'"
            ]
          },
          "metadata": {
            "tags": []
          },
          "execution_count": 18
        }
      ]
    },
    {
      "cell_type": "code",
      "metadata": {
        "colab": {
          "base_uri": "https://localhost:8080/",
          "height": 125
        },
        "id": "aomGCGZVOycX",
        "outputId": "601b9e99-0074-4531-e8d1-1450aff425e9"
      },
      "source": [
        "with open(\"news.txt\", \"r\", encoding=\"utf-8\") as f:\n",
        "  content = f.read()\n",
        "to_convert = content\n",
        "converted = cc.convert(to_convert)\n",
        "content = converted\n",
        "content"
      ],
      "execution_count": 23,
      "outputs": [
        {
          "output_type": "execute_result",
          "data": {
            "application/vnd.google.colaboratory.intrinsic+json": {
              "type": "string"
            },
            "text/plain": [
              "'日本防衛省已彙整2021年版“防衛白皮書”草案，對中共在臺灣周邊軍事活動益加頻繁，首度提及“臺灣情勢的穩定，對我國安全保障及國際社會穩定來說很重要”。\\n\\n日本朝日新聞報導，正式版的防衛白皮書將說明日本防衛省政策、自衛隊活動及周邊國家動態等，預計7月彙整完成。\\n\\n防衛白皮書草案從中共國防預算是日本防衛相關預算約4倍、達約20兆日圓（約新臺幣5兆元）規模等來看其軍事動向，載明“是包括我國在內的地區及國際社會安全保障的強烈憂慮”。\\n\\n草案還觸及欠缺透明度的中國國防預算增加，及廣泛且快速強化包括核武、彈道飛彈能力等以海空作戰能力為主的軍事力量。\\n\\n有關臺灣情勢，草案提及中共在臺灣周邊的軍事活動更加頻繁，也指出美國在軍事方面協防颱灣的態度明確，強調站在日本立場有必要持續關注。\\n\\n草案提到今年政黨輪替的美國，認為必須關注美國修正全球戰力態勢的動向；至於在美中關係的專案中，草案分析“（美中）在技術領域的競爭有可能更加激烈”。\\n\\n有關今年3月試射新型彈道飛彈的朝鮮，草案認為“對我國安全是重大且迫切威脅”，持續表達強烈警戒感。談到俄羅斯部分，草案指出，近年來有將最新式裝備部署在遠東方面的傾向。'"
            ]
          },
          "metadata": {
            "tags": []
          },
          "execution_count": 23
        }
      ]
    },
    {
      "cell_type": "code",
      "metadata": {
        "colab": {
          "base_uri": "https://localhost:8080/"
        },
        "id": "68-u9RYMQHLM",
        "outputId": "afe8e746-cf9d-46f5-ae2c-e6263c1fe53b"
      },
      "source": [
        "import jieba.analyse\n",
        "print(jieba.analyse.extract_tags(content))\n",
        "print(jieba.analyse.extract_tags(content, allowPOS=[\"n\"]))"
      ],
      "execution_count": 28,
      "outputs": [
        {
          "output_type": "stream",
          "text": [
            "['草案', '防衛', '軍事', '活動', '我國', '美國', '白皮', '日本', '防衛省', '灣周邊', '頻繁', '灣情勢', '穩定', '社會', '強烈', '彈道', '飛彈', '有關', '持續', '關注']\n",
            "['草案', '白皮', '國防', '彈道', '飛彈', '軍事', '國際', '社會', '新聞', '報導', '衛隊', '國家', '動態', '規模', '軍事動向', '地區', '態度', '立場', '政黨', '戰力']\n"
          ],
          "name": "stdout"
        }
      ]
    },
    {
      "cell_type": "code",
      "metadata": {
        "colab": {
          "base_uri": "https://localhost:8080/"
        },
        "id": "tcoHshlGR8Ec",
        "outputId": "f26cbde5-24c6-478f-93c8-7c3802c2122e"
      },
      "source": [
        "import jieba\n",
        "from urllib.request import urlretrieve\n",
        "url = \"https://github.com/fxsjy/jieba/raw/master/extra_dict/dict.txt.big\"\n",
        "urlretrieve(url, \"dict.txt.big\")"
      ],
      "execution_count": 30,
      "outputs": [
        {
          "output_type": "execute_result",
          "data": {
            "text/plain": [
              "('dict.txt.big', <http.client.HTTPMessage at 0x7fd6a4905090>)"
            ]
          },
          "metadata": {
            "tags": []
          },
          "execution_count": 30
        }
      ]
    },
    {
      "cell_type": "code",
      "metadata": {
        "colab": {
          "base_uri": "https://localhost:8080/"
        },
        "id": "RawDVuOPlJte",
        "outputId": "bf7e5409-9052-4e46-def0-528b031e2932"
      },
      "source": [
        "c = \" \".join(jieba.cut(content))\n",
        "print(c)\n",
        "print(\"-\" * 200)\n",
        "jieba.set_dictionary(\"dict.txt.big\")\n",
        "c1 = \" \".join(jieba.cut(content))\n",
        "print(c1)"
      ],
      "execution_count": 41,
      "outputs": [
        {
          "output_type": "stream",
          "text": [
            "Building prefix dict from /content/dict.txt.big ...\n",
            "Loading model from cache /tmp/jieba.u501edca284da514cb68b53a20324f4e3.cache\n"
          ],
          "name": "stderr"
        },
        {
          "output_type": "stream",
          "text": [
            "日本 防衛 省 已 彙 整 2021 年版 “ 防衛 白皮書 ” 草案 ， 對 中共 在 臺灣 周邊 軍事 活動 益加 頻繁 ， 首度 提及 “ 臺灣 情勢 的 穩定 ， 對 我國 安全 保障 及 國際 社會 穩定 來說 很 重要 ” 。 \n",
            " \n",
            " 日本 朝日 新聞報導 ， 正式版 的 防衛 白皮書 將 說明 日本 防衛 省 政策 、 自衛隊 活動 及 周邊國家 動態 等 ， 預計 7 月 彙 整 完成 。 \n",
            " \n",
            " 防衛 白皮書 草案 從中 共 國防 預算 是 日本 防衛 相關 預算 約 4 倍 、 達約 20 兆 日圓 （ 約 新臺幣 5 兆元 ） 規模 等 來看 其 軍事 動向 ， 載明 “ 是 包括 我國 在內 的 地區 及 國際 社會 安全 保障 的 強烈 憂慮 ” 。 \n",
            " \n",
            " 草案 還 觸及 欠缺 透明度 的 中國 國防 預算 增加 ， 及 廣泛 且 快速 強化 包括 核武 、 彈道飛彈 能力 等 以 海空 作戰 能力 為主 的 軍事力量 。 \n",
            " \n",
            " 有關 臺灣 情勢 ， 草案 提及 中共 在 臺灣 周邊 的 軍事 活動 更加 頻繁 ， 也 指出 美國 在 軍事 方面 協 防颱 灣的 態度 明確 ， 強調 站 在 日本 立場 有 必要 持續 關注 。 \n",
            " \n",
            " 草案 提到 今年 政黨 輪替 的 美國 ， 認為 必須 關注 美國 修正 全球 戰力 態勢 的 動向 ； 至於 在 美中關係 的 專案 中 ， 草案 分析 “ （ 美 中 ） 在 技術 領域 的 競爭 有 可能 更加 激烈 ” 。 \n",
            " \n",
            " 有關 今年 3 月 試射 新型 彈道飛彈 的 朝鮮 ， 草案 認為 “ 對 我國 安全 是 重大 且 迫切 威脅 ” ， 持續 表達 強烈 警戒 感 。 談到 俄羅斯 部分 ， 草案 指出 ， 近年來 有將 最新 式 裝備 部署 在 遠東 方面 的 傾向 。\n",
            "--------------------------------------------------------------------------------------------------------------------------------------------------------------------------------------------------------\n"
          ],
          "name": "stdout"
        },
        {
          "output_type": "stream",
          "text": [
            "Loading model cost 1.480 seconds.\n",
            "Prefix dict has been built successfully.\n"
          ],
          "name": "stderr"
        },
        {
          "output_type": "stream",
          "text": [
            "日本 防衛 省 已 彙 整 2021 年版 “ 防衛 白皮書 ” 草案 ， 對 中共 在 臺灣 周邊 軍事 活動 益加 頻繁 ， 首度 提及 “ 臺灣 情勢 的 穩定 ， 對 我國 安全 保障 及 國際 社會 穩定 來說 很 重要 ” 。 \n",
            " \n",
            " 日本 朝日 新聞報導 ， 正式版 的 防衛 白皮書 將 說明 日本 防衛 省 政策 、 自衛隊 活動 及 周邊國家 動態 等 ， 預計 7 月 彙 整 完成 。 \n",
            " \n",
            " 防衛 白皮書 草案 從中 共 國防 預算 是 日本 防衛 相關 預算 約 4 倍 、 達約 20 兆 日圓 （ 約 新臺幣 5 兆元 ） 規模 等 來看 其 軍事 動向 ， 載明 “ 是 包括 我國 在內 的 地區 及 國際 社會 安全 保障 的 強烈 憂慮 ” 。 \n",
            " \n",
            " 草案 還 觸及 欠缺 透明度 的 中國 國防 預算 增加 ， 及 廣泛 且 快速 強化 包括 核武 、 彈道飛彈 能力 等 以 海空 作戰 能力 為主 的 軍事力量 。 \n",
            " \n",
            " 有關 臺灣 情勢 ， 草案 提及 中共 在 臺灣 周邊 的 軍事 活動 更加 頻繁 ， 也 指出 美國 在 軍事 方面 協 防颱 灣的 態度 明確 ， 強調 站 在 日本 立場 有 必要 持續 關注 。 \n",
            " \n",
            " 草案 提到 今年 政黨 輪替 的 美國 ， 認為 必須 關注 美國 修正 全球 戰力 態勢 的 動向 ； 至於 在 美中關係 的 專案 中 ， 草案 分析 “ （ 美 中 ） 在 技術 領域 的 競爭 有 可能 更加 激烈 ” 。 \n",
            " \n",
            " 有關 今年 3 月 試射 新型 彈道飛彈 的 朝鮮 ， 草案 認為 “ 對 我國 安全 是 重大 且 迫切 威脅 ” ， 持續 表達 強烈 警戒 感 。 談到 俄羅斯 部分 ， 草案 指出 ， 近年來 有將 最新 式 裝備 部署 在 遠東 方面 的 傾向 。\n"
          ],
          "name": "stdout"
        }
      ]
    },
    {
      "cell_type": "code",
      "metadata": {
        "id": "WTsjSQg_l9It"
      },
      "source": [
        ""
      ],
      "execution_count": null,
      "outputs": []
    }
  ]
}