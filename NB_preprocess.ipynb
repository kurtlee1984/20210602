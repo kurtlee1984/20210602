{
  "nbformat": 4,
  "nbformat_minor": 0,
  "metadata": {
    "colab": {
      "name": "NB_preprocess.ipynb",
      "provenance": [],
      "authorship_tag": "ABX9TyPalBIejNQoKPHk0BAfHl1K",
      "include_colab_link": true
    },
    "kernelspec": {
      "name": "python3",
      "display_name": "Python 3"
    },
    "language_info": {
      "name": "python"
    }
  },
  "cells": [
    {
      "cell_type": "markdown",
      "metadata": {
        "id": "view-in-github",
        "colab_type": "text"
      },
      "source": [
        "<a href=\"https://colab.research.google.com/github/kurtlee1984/Machine_Learning/blob/main/NB_preprocess.ipynb\" target=\"_parent\"><img src=\"https://colab.research.google.com/assets/colab-badge.svg\" alt=\"Open In Colab\"/></a>"
      ]
    },
    {
      "cell_type": "code",
      "metadata": {
        "colab": {
          "base_uri": "https://localhost:8080/"
        },
        "id": "UqRYJdkZKua9",
        "outputId": "528ae0a7-e83f-4312-93ac-a29f762e3500"
      },
      "source": [
        "!pip install opencc-python-reimplemented"
      ],
      "execution_count": 51,
      "outputs": [
        {
          "output_type": "stream",
          "text": [
            "Requirement already satisfied: opencc-python-reimplemented in /usr/local/lib/python3.7/dist-packages (0.1.6)\n"
          ],
          "name": "stdout"
        }
      ]
    },
    {
      "cell_type": "code",
      "metadata": {
        "id": "7dw_8tAaNVjZ"
      },
      "source": [
        "to_convert = \"\"\"日本防卫省已汇整2021年版“防卫白皮书”草案，对中共在台湾周边军事活动益加频繁，首度提及“台湾情势的稳定，对我国安全保障及国际社会稳定来说很重要”。\n",
        "日本朝日新闻报导，正式版的防卫白皮书将说明日本防卫省政策、自卫队活动及周边国家动态等，预计7月汇整完成。\n",
        "防卫白皮书草案从中共国防预算是日本防卫相关预算约4倍、达约20兆日圆（约新台币5兆元）规模等来看其军事动向，载明“是包括我国在内的地区及国际社会安全保障的强烈忧虑”。\n",
        "草案还触及欠缺透明度的中国国防预算增加，及广泛且快速强化包括核武、弹道飞弹能力等以海空作战能力为主的军事力量。\n",
        "有关台湾情势，草案提及中共在台湾周边的军事活动更加频繁，也指出美国在军事方面协防 台湾的态度明确，强调站在日本立场有必要持续关注。\n",
        "草案提到今年政党轮替的美国，认为必须关注美国修正全球战力态势的动向；至于在美中关系的项目中，草案分析“（美中）在技术领域的竞争有可能更加激烈”。\n",
        "有关今年3月试射新型弹道飞弹的朝鲜，草案认为“对我国安全是重大且迫切威胁”，持续表达强烈警戒感。谈到俄罗斯部分，草案指出，近年来有将最新式装备部署在远东方面的倾向。\"\"\""
      ],
      "execution_count": 52,
      "outputs": []
    },
    {
      "cell_type": "markdown",
      "metadata": {
        "id": "dQRZ8qFWOKAf"
      },
      "source": [
        ""
      ]
    },
    {
      "cell_type": "code",
      "metadata": {
        "colab": {
          "base_uri": "https://localhost:8080/",
          "height": 125
        },
        "id": "viDMSVhMLcUE",
        "outputId": "c86faea9-1555-434e-b567-c83e65a4cfff"
      },
      "source": [
        "from opencc import OpenCC\n",
        "cc = OpenCC(\"s2twp\")\n",
        "converted = cc.convert(to_convert)\n",
        "converted"
      ],
      "execution_count": 53,
      "outputs": [
        {
          "output_type": "execute_result",
          "data": {
            "application/vnd.google.colaboratory.intrinsic+json": {
              "type": "string"
            },
            "text/plain": [
              "'日本防衛省已彙整2021年版“防衛白皮書”草案，對中共在臺灣周邊軍事活動益加頻繁，首度提及“臺灣情勢的穩定，對我國安全保障及國際社會穩定來說很重要”。\\n日本朝日新聞報導，正式版的防衛白皮書將說明日本防衛省政策、自衛隊活動及周邊國家動態等，預計7月彙整完成。\\n防衛白皮書草案從中共國防預算是日本防衛相關預算約4倍、達約20兆日圓（約新臺幣5兆元）規模等來看其軍事動向，載明“是包括我國在內的地區及國際社會安全保障的強烈憂慮”。\\n草案還觸及欠缺透明度的中國國防預算增加，及廣泛且快速強化包括核武、彈道飛彈能力等以海空作戰能力為主的軍事力量。\\n有關臺灣情勢，草案提及中共在臺灣周邊的軍事活動更加頻繁，也指出美國在軍事方面協防 臺灣的態度明確，強調站在日本立場有必要持續關注。\\n草案提到今年政黨輪替的美國，認為必須關注美國修正全球戰力態勢的動向；至於在美中關係的專案中，草案分析“（美中）在技術領域的競爭有可能更加激烈”。\\n有關今年3月試射新型彈道飛彈的朝鮮，草案認為“對我國安全是重大且迫切威脅”，持續表達強烈警戒感。談到俄羅斯部分，草案指出，近年來有將最新式裝備部署在遠東方面的傾向。'"
            ]
          },
          "metadata": {
            "tags": []
          },
          "execution_count": 53
        }
      ]
    },
    {
      "cell_type": "code",
      "metadata": {
        "colab": {
          "base_uri": "https://localhost:8080/",
          "height": 125
        },
        "id": "aomGCGZVOycX",
        "outputId": "21da0bec-22fb-4a72-cc4c-2fd5a990e5a3"
      },
      "source": [
        "with open(\"news.txt\", \"r\", encoding=\"utf-8\") as f:\n",
        "  content = f.read()\n",
        "to_convert = content\n",
        "converted = cc.convert(to_convert)\n",
        "content = converted\n",
        "content"
      ],
      "execution_count": 54,
      "outputs": [
        {
          "output_type": "execute_result",
          "data": {
            "application/vnd.google.colaboratory.intrinsic+json": {
              "type": "string"
            },
            "text/plain": [
              "'日本防衛省已彙整2021年版“防衛白皮書”草案，對中共在臺灣周邊軍事活動益加頻繁，首度提及“臺灣情勢的穩定，對我國安全保障及國際社會穩定來說很重要”。\\n\\n日本朝日新聞報導，正式版的防衛白皮書將說明日本防衛省政策、自衛隊活動及周邊國家動態等，預計7月彙整完成。\\n\\n防衛白皮書草案從中共國防預算是日本防衛相關預算約4倍、達約20兆日圓（約新臺幣5兆元）規模等來看其軍事動向，載明“是包括我國在內的地區及國際社會安全保障的強烈憂慮”。\\n\\n草案還觸及欠缺透明度的中國國防預算增加，及廣泛且快速強化包括核武、彈道飛彈能力等以海空作戰能力為主的軍事力量。\\n\\n有關臺灣情勢，草案提及中共在臺灣周邊的軍事活動更加頻繁，也指出美國在軍事方面協防颱灣的態度明確，強調站在日本立場有必要持續關注。\\n\\n草案提到今年政黨輪替的美國，認為必須關注美國修正全球戰力態勢的動向；至於在美中關係的專案中，草案分析“（美中）在技術領域的競爭有可能更加激烈”。\\n\\n有關今年3月試射新型彈道飛彈的朝鮮，草案認為“對我國安全是重大且迫切威脅”，持續表達強烈警戒感。談到俄羅斯部分，草案指出，近年來有將最新式裝備部署在遠東方面的傾向。'"
            ]
          },
          "metadata": {
            "tags": []
          },
          "execution_count": 54
        }
      ]
    },
    {
      "cell_type": "code",
      "metadata": {
        "colab": {
          "base_uri": "https://localhost:8080/"
        },
        "id": "68-u9RYMQHLM",
        "outputId": "6e1b16bf-3994-4a2e-fc9d-36a04cfa535b"
      },
      "source": [
        "import jieba.analyse\n",
        "print(jieba.analyse.extract_tags(content))\n",
        "print(jieba.analyse.extract_tags(content, allowPOS=[\"n\"]))"
      ],
      "execution_count": 55,
      "outputs": [
        {
          "output_type": "stream",
          "text": [
            "['防衛', '草案', '臺灣', '軍事', '白皮書', '活動', '我國', '預算', '美國', '日本', '周邊', '頻繁', '情勢', '穩定', '國際', '社會', '國防', '動向', '強烈', '彈道飛彈']\n",
            "['草案', '朝日', '核武', '能力', '首度', '方面', '透明度', '警戒', '部署', '全球', '政策', '部分']\n"
          ],
          "name": "stdout"
        }
      ]
    },
    {
      "cell_type": "code",
      "metadata": {
        "colab": {
          "base_uri": "https://localhost:8080/"
        },
        "id": "tcoHshlGR8Ec",
        "outputId": "fcafb185-39d3-4d01-90d3-736383bc5dea"
      },
      "source": [
        "import jieba\n",
        "from urllib.request import urlretrieve\n",
        "url = \"https://github.com/fxsjy/jieba/raw/master/extra_dict/dict.txt.big\"\n",
        "urlretrieve(url, \"dict.txt.big\")"
      ],
      "execution_count": 56,
      "outputs": [
        {
          "output_type": "execute_result",
          "data": {
            "text/plain": [
              "('dict.txt.big', <http.client.HTTPMessage at 0x7fd6988d69d0>)"
            ]
          },
          "metadata": {
            "tags": []
          },
          "execution_count": 56
        }
      ]
    },
    {
      "cell_type": "code",
      "metadata": {
        "colab": {
          "base_uri": "https://localhost:8080/"
        },
        "id": "RawDVuOPlJte",
        "outputId": "d4dc8e4f-540e-4609-9cfe-49d7bea65858"
      },
      "source": [
        "c = \" \".join(jieba.cut(content))\n",
        "print(c)\n",
        "print(\"-\" * 200)\n",
        "jieba.set_dictionary(\"dict.txt.big\")\n",
        "c1 = \" \".join(jieba.cut(content))\n",
        "print(c1)"
      ],
      "execution_count": 57,
      "outputs": [
        {
          "output_type": "stream",
          "text": [
            "Building prefix dict from /content/dict.txt.big ...\n"
          ],
          "name": "stderr"
        },
        {
          "output_type": "stream",
          "text": [
            "日本 防衛 省 已 彙 整 2021 年版 “ 防衛 白皮書 ” 草案 ， 對 中共 在 臺灣 周邊 軍事 活動 益加 頻繁 ， 首度 提及 “ 臺灣 情勢 的 穩定 ， 對 我國 安全 保障 及 國際 社會 穩定 來說 很 重要 ” 。 \n",
            " \n",
            " 日本 朝日 新聞報導 ， 正式版 的 防衛 白皮書 將 說明 日本 防衛 省 政策 、 自衛隊 活動 及 周邊國家 動態 等 ， 預計 7 月 彙 整 完成 。 \n",
            " \n",
            " 防衛 白皮書 草案 從中 共 國防 預算 是 日本 防衛 相關 預算 約 4 倍 、 達約 20 兆 日圓 （ 約 新臺幣 5 兆元 ） 規模 等 來看 其 軍事 動向 ， 載明 “ 是 包括 我國 在內 的 地區 及 國際 社會 安全 保障 的 強烈 憂慮 ” 。 \n",
            " \n",
            " 草案 還 觸及 欠缺 透明度 的 中國 國防 預算 增加 ， 及 廣泛 且 快速 強化 包括 核武 、 彈道飛彈 能力 等 以 海空 作戰 能力 為主 的 軍事力量 。 \n",
            " \n",
            " 有關 臺灣 情勢 ， 草案 提及 中共 在 臺灣 周邊 的 軍事 活動 更加 頻繁 ， 也 指出 美國 在 軍事 方面 協 防颱 灣的 態度 明確 ， 強調 站 在 日本 立場 有 必要 持續 關注 。 \n",
            " \n",
            " 草案 提到 今年 政黨 輪替 的 美國 ， 認為 必須 關注 美國 修正 全球 戰力 態勢 的 動向 ； 至於 在 美中關係 的 專案 中 ， 草案 分析 “ （ 美 中 ） 在 技術 領域 的 競爭 有 可能 更加 激烈 ” 。 \n",
            " \n",
            " 有關 今年 3 月 試射 新型 彈道飛彈 的 朝鮮 ， 草案 認為 “ 對 我國 安全 是 重大 且 迫切 威脅 ” ， 持續 表達 強烈 警戒 感 。 談到 俄羅斯 部分 ， 草案 指出 ， 近年來 有將 最新 式 裝備 部署 在 遠東 方面 的 傾向 。\n",
            "--------------------------------------------------------------------------------------------------------------------------------------------------------------------------------------------------------\n"
          ],
          "name": "stdout"
        },
        {
          "output_type": "stream",
          "text": [
            "Dumping model to file cache /tmp/jieba.u501edca284da514cb68b53a20324f4e3.cache\n",
            "Loading model cost 1.839 seconds.\n",
            "Prefix dict has been built successfully.\n"
          ],
          "name": "stderr"
        },
        {
          "output_type": "stream",
          "text": [
            "日本 防衛 省 已 彙 整 2021 年版 “ 防衛 白皮書 ” 草案 ， 對 中共 在 臺灣 周邊 軍事 活動 益加 頻繁 ， 首度 提及 “ 臺灣 情勢 的 穩定 ， 對 我國 安全 保障 及 國際 社會 穩定 來說 很 重要 ” 。 \n",
            " \n",
            " 日本 朝日 新聞報導 ， 正式版 的 防衛 白皮書 將 說明 日本 防衛 省 政策 、 自衛隊 活動 及 周邊國家 動態 等 ， 預計 7 月 彙 整 完成 。 \n",
            " \n",
            " 防衛 白皮書 草案 從中 共 國防 預算 是 日本 防衛 相關 預算 約 4 倍 、 達約 20 兆 日圓 （ 約 新臺幣 5 兆元 ） 規模 等 來看 其 軍事 動向 ， 載明 “ 是 包括 我國 在內 的 地區 及 國際 社會 安全 保障 的 強烈 憂慮 ” 。 \n",
            " \n",
            " 草案 還 觸及 欠缺 透明度 的 中國 國防 預算 增加 ， 及 廣泛 且 快速 強化 包括 核武 、 彈道飛彈 能力 等 以 海空 作戰 能力 為主 的 軍事力量 。 \n",
            " \n",
            " 有關 臺灣 情勢 ， 草案 提及 中共 在 臺灣 周邊 的 軍事 活動 更加 頻繁 ， 也 指出 美國 在 軍事 方面 協 防颱 灣的 態度 明確 ， 強調 站 在 日本 立場 有 必要 持續 關注 。 \n",
            " \n",
            " 草案 提到 今年 政黨 輪替 的 美國 ， 認為 必須 關注 美國 修正 全球 戰力 態勢 的 動向 ； 至於 在 美中關係 的 專案 中 ， 草案 分析 “ （ 美 中 ） 在 技術 領域 的 競爭 有 可能 更加 激烈 ” 。 \n",
            " \n",
            " 有關 今年 3 月 試射 新型 彈道飛彈 的 朝鮮 ， 草案 認為 “ 對 我國 安全 是 重大 且 迫切 威脅 ” ， 持續 表達 強烈 警戒 感 。 談到 俄羅斯 部分 ， 草案 指出 ， 近年來 有將 最新 式 裝備 部署 在 遠東 方面 的 傾向 。\n"
          ],
          "name": "stdout"
        }
      ]
    },
    {
      "cell_type": "code",
      "metadata": {
        "colab": {
          "base_uri": "https://localhost:8080/"
        },
        "id": "WTsjSQg_l9It",
        "outputId": "93f19a30-422a-4b15-8bfb-d93710eceeab"
      },
      "source": [
        "jieba.load_userdict(\"mydict.txt\")\n",
        "c = \" \".join(jieba.cut(content))\n",
        "print(c)"
      ],
      "execution_count": 60,
      "outputs": [
        {
          "output_type": "stream",
          "text": [
            "日本 防衛省 已 彙整 2021 年版 “ 防衛 白皮書 ” 草案 ， 對 中共 在 臺灣 周邊 軍事 活動 益加 頻繁 ， 首度 提及 “ 臺灣 情勢 的 穩定 ， 對 我國 安全 保障 及 國際 社會 穩定 來說 很 重要 ” 。 \n",
            " \n",
            " 日本 朝日 新聞報導 ， 正式版 的 防衛 白皮書 將 說明 日本 防衛省 政策 、 自衛隊 活動 及 周邊國家 動態 等 ， 預計 7 月 彙整 完成 。 \n",
            " \n",
            " 防衛 白皮書 草案 從中 共 國防 預算 是 日本 防衛 相關 預算 約 4 倍 、 達約 20 兆 日圓 （ 約 新臺幣 5 兆元 ） 規模 等 來看 其 軍事 動向 ， 載明 “ 是 包括 我國 在內 的 地區 及 國際 社會 安全 保障 的 強烈 憂慮 ” 。 \n",
            " \n",
            " 草案 還 觸及 欠缺 透明度 的 中國 國防 預算 增加 ， 及 廣泛 且 快速 強化 包括 核武 、 彈道飛彈 能力 等 以 海空 作戰 能力 為主 的 軍事力量 。 \n",
            " \n",
            " 有關 臺灣 情勢 ， 草案 提及 中共 在 臺灣 周邊 的 軍事 活動 更加 頻繁 ， 也 指出 美國 在 軍事 方面 協 防颱 灣的 態度 明確 ， 強調 站 在 日本 立場 有 必要 持續 關注 。 \n",
            " \n",
            " 草案 提到 今年 政黨 輪替 的 美國 ， 認為 必須 關注 美國 修正 全球 戰力 態勢 的 動向 ； 至於 在 美中關係 的 專案 中 ， 草案 分析 “ （ 美 中 ） 在 技術 領域 的 競爭 有 可能 更加 激烈 ” 。 \n",
            " \n",
            " 有關 今年 3 月 試射 新型 彈道飛彈 的 朝鮮 ， 草案 認為 “ 對 我國 安全 是 重大 且 迫切 威脅 ” ， 持續 表達 強烈 警戒 感 。 談到 俄羅斯 部分 ， 草案 指出 ， 近年來 有將 最新 式 裝備 部署 在 遠東 方面 的 傾向 。\n"
          ],
          "name": "stdout"
        }
      ]
    }
  ]
}