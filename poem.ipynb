{
  "nbformat": 4,
  "nbformat_minor": 0,
  "metadata": {
    "colab": {
      "name": "poem.ipynb",
      "provenance": [],
      "authorship_tag": "ABX9TyOFnIm3UxJFJROBJDRVvpSC",
      "include_colab_link": true
    },
    "kernelspec": {
      "name": "python3",
      "display_name": "Python 3"
    },
    "language_info": {
      "name": "python"
    }
  },
  "cells": [
    {
      "cell_type": "markdown",
      "metadata": {
        "id": "view-in-github",
        "colab_type": "text"
      },
      "source": [
        "<a href=\"https://colab.research.google.com/github/kurtlee1984/ML_20210602/blob/main/poem.ipynb\" target=\"_parent\"><img src=\"https://colab.research.google.com/assets/colab-badge.svg\" alt=\"Open In Colab\"/></a>"
      ]
    },
    {
      "cell_type": "code",
      "metadata": {
        "colab": {
          "base_uri": "https://localhost:8080/"
        },
        "id": "ztvSrfFczyv3",
        "outputId": "d19e9a0e-3668-4df9-d560-94516d7a9853"
      },
      "source": [
        "from urllib.request import urlretrieve\n",
        "url = \"https://raw.githubusercontent.com/Elwing-Chou/ml0602/main/poem_train.csv\"\n",
        "urlretrieve(url, \"train.csv\")\n",
        "url = \"https://raw.githubusercontent.com/Elwing-Chou/ml0602/main/poem_test.csv\"\n",
        "urlretrieve(url, \"test.csv\")"
      ],
      "execution_count": 7,
      "outputs": [
        {
          "output_type": "execute_result",
          "data": {
            "text/plain": [
              "('test.csv', <http.client.HTTPMessage at 0x7f6683fcbe90>)"
            ]
          },
          "metadata": {
            "tags": []
          },
          "execution_count": 7
        }
      ]
    },
    {
      "cell_type": "code",
      "metadata": {
        "id": "YNJdnnr7x0LH"
      },
      "source": [
        "import pandas as pd\n",
        "train = pd.read_csv(\"train.csv\", encoding=\"utf-8\")\n",
        "test = pd.read_csv(\"test.csv\", encoding=\"utf-8\")\n",
        "# train\n",
        "# test"
      ],
      "execution_count": 31,
      "outputs": []
    },
    {
      "cell_type": "code",
      "metadata": {
        "colab": {
          "base_uri": "https://localhost:8080/"
        },
        "id": "1_QfHBpE3wGm",
        "outputId": "22ae16e7-d5ef-4ebe-e1c6-c6297f47f461"
      },
      "source": [
        "# 分類: 輸出 0 1 2 3\n",
        "# series.replace(字典)\n",
        "# {\"李白\":0, \"杜甫\":1, \"白居易\":2}\n",
        "# series.unique/series.value_counts\n",
        "u = train[\"作者\"].unique()\n",
        "# u = train[\"作者\"].value_counts()\n",
        "# print(u)\n",
        "name2index = {n:i for i, n in enumerate(u)}\n",
        "index2name = {i:n for i, n in enumerate(u)}\n",
        "# print(name2index)\n",
        "# print(index2name)\n",
        "# y_train = train[\"作者\"].replace(name2index)\n",
        "# y_test = test[\"作者\"].replace(name2index)\n",
        "# y_test"
      ],
      "execution_count": 36,
      "outputs": [
        {
          "output_type": "stream",
          "text": [
            "{'李白': 0, '杜甫': 1, '白居易': 2}\n"
          ],
          "name": "stdout"
        }
      ]
    },
    {
      "cell_type": "code",
      "metadata": {
        "id": "W1cQN8t3hhxM"
      },
      "source": [
        "import jieba\n",
        "def poemcut(p):\n",
        "  return \" \".join(jieba.cut(p))\n",
        "x_train = train[\"內容\"].apply(poemcut)\n",
        "x_test = test[\"內容\"].apply(poemcut)\n",
        "x_train"
      ],
      "execution_count": null,
      "outputs": []
    },
    {
      "cell_type": "code",
      "metadata": {
        "id": "MzfWuUgviujD"
      },
      "source": [
        "from sklearn.feature_extraction.text import CountVectorizer\n",
        "vec = CountVectorizer()\n",
        "vec.fit(x_train)\n",
        "len(vec.vocabulary_)"
      ],
      "execution_count": null,
      "outputs": []
    },
    {
      "cell_type": "code",
      "metadata": {
        "id": "QZTFCSvfosxf"
      },
      "source": [
        "#稀疏矩陣\n",
        "x_train_count = vec.transform(x_train)\n",
        "x_test_count = vec.transform(x_test)\n",
        "x_test_count"
      ],
      "execution_count": null,
      "outputs": []
    },
    {
      "cell_type": "code",
      "metadata": {
        "id": "0psazQQluukb"
      },
      "source": [
        "# 檢查標點符號, \\r \\n\n",
        "# vec.vocabulary_[\"。\"]\n",
        "# vec.vocabulary_[\"\\r\\n\"]"
      ],
      "execution_count": 20,
      "outputs": []
    },
    {
      "cell_type": "code",
      "metadata": {
        "colab": {
          "base_uri": "https://localhost:8080/"
        },
        "id": "Z2KfF77Iu3WR",
        "outputId": "080a9c89-3e69-4826-bb36-b49b08fe8a8d"
      },
      "source": [
        "from sklearn.naive_bayes import MultinomialNB\n",
        "clf = MultinomialNB(alpha=0.01)\n",
        "clf.fit(x_train_count, y_train)"
      ],
      "execution_count": 18,
      "outputs": [
        {
          "output_type": "execute_result",
          "data": {
            "text/plain": [
              "MultinomialNB(alpha=1.0, class_prior=None, fit_prior=True)"
            ]
          },
          "metadata": {
            "tags": []
          },
          "execution_count": 18
        }
      ]
    },
    {
      "cell_type": "code",
      "metadata": {
        "colab": {
          "base_uri": "https://localhost:8080/"
        },
        "id": "xvqMiB34vCUI",
        "outputId": "ec7ef7b9-1814-499e-ea7c-7570b0af8fa2"
      },
      "source": [
        "from sklearn.metrics import accuracy_score\n",
        "pre = clf.predict(x_test_count)\n",
        "accuracy_score(pre, y_test)"
      ],
      "execution_count": 19,
      "outputs": [
        {
          "output_type": "execute_result",
          "data": {
            "text/plain": [
              "0.8"
            ]
          },
          "metadata": {
            "tags": []
          },
          "execution_count": 19
        }
      ]
    },
    {
      "cell_type": "code",
      "metadata": {
        "colab": {
          "base_uri": "https://localhost:8080/",
          "height": 143
        },
        "id": "bthBYj45yrCn",
        "outputId": "2f7e413a-8aa7-471b-e2e4-11a44eb83157"
      },
      "source": [
        "from sklearn.metrics import confusion_matrix\n",
        "mat = confusion_matrix(y_test, pre)\n",
        "pd.DataFrame(mat,\n",
        "            columns=[\"{}(預測)\".format(n) for n in u],\n",
        "            index=[\"{}(正確)\".format(n) for n in u])"
      ],
      "execution_count": 27,
      "outputs": [
        {
          "output_type": "execute_result",
          "data": {
            "text/html": [
              "<div>\n",
              "<style scoped>\n",
              "    .dataframe tbody tr th:only-of-type {\n",
              "        vertical-align: middle;\n",
              "    }\n",
              "\n",
              "    .dataframe tbody tr th {\n",
              "        vertical-align: top;\n",
              "    }\n",
              "\n",
              "    .dataframe thead th {\n",
              "        text-align: right;\n",
              "    }\n",
              "</style>\n",
              "<table border=\"1\" class=\"dataframe\">\n",
              "  <thead>\n",
              "    <tr style=\"text-align: right;\">\n",
              "      <th></th>\n",
              "      <th>李白(預測)</th>\n",
              "      <th>杜甫(預測)</th>\n",
              "      <th>白居易(預測)</th>\n",
              "    </tr>\n",
              "  </thead>\n",
              "  <tbody>\n",
              "    <tr>\n",
              "      <th>李白(正確)</th>\n",
              "      <td>8</td>\n",
              "      <td>1</td>\n",
              "      <td>1</td>\n",
              "    </tr>\n",
              "    <tr>\n",
              "      <th>杜甫(正確)</th>\n",
              "      <td>1</td>\n",
              "      <td>8</td>\n",
              "      <td>1</td>\n",
              "    </tr>\n",
              "    <tr>\n",
              "      <th>白居易(正確)</th>\n",
              "      <td>1</td>\n",
              "      <td>1</td>\n",
              "      <td>8</td>\n",
              "    </tr>\n",
              "  </tbody>\n",
              "</table>\n",
              "</div>"
            ],
            "text/plain": [
              "         李白(預測)  杜甫(預測)  白居易(預測)\n",
              "李白(正確)        8       1        1\n",
              "杜甫(正確)        1       8        1\n",
              "白居易(正確)       1       1        8"
            ]
          },
          "metadata": {
            "tags": []
          },
          "execution_count": 27
        }
      ]
    },
    {
      "cell_type": "code",
      "metadata": {
        "colab": {
          "base_uri": "https://localhost:8080/"
        },
        "id": "2H875NX-_sTe",
        "outputId": "4aa82adb-430b-4625-d77c-c7a8e70f5ac6"
      },
      "source": [
        "poem = input(\"輸入詩:\")\n",
        "poems = [poemcut(poem)]\n",
        "poems_count = vec.transform(poems)\n",
        "pre = clf.predict(poems_count)[0]\n",
        "print(\"答案是:\", index2name[pre])\n",
        "pre_proba = clf.predict_proba(poems_count)[0]\n",
        "for name, proba in zip(u, pre_proba):\n",
        "    print(name, \"的機率:\", proba)"
      ],
      "execution_count": 38,
      "outputs": [
        {
          "output_type": "stream",
          "text": [
            "輸入詩:金樽清酒斗十千\n",
            "答案是: 李白\n",
            "李白 的機率: 0.7802293304852961\n",
            "杜甫 的機率: 0.09090812069152791\n",
            "白居易 的機率: 0.12886254882317483\n"
          ],
          "name": "stdout"
        }
      ]
    }
  ]
}