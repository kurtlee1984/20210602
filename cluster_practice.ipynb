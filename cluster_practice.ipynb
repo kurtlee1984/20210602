{
  "nbformat": 4,
  "nbformat_minor": 0,
  "metadata": {
    "colab": {
      "name": "Cluster_practice.ipynb",
      "provenance": [],
      "authorship_tag": "ABX9TyPjsxGLOQgkSxaC1dWCaEVF",
      "include_colab_link": true
    },
    "kernelspec": {
      "name": "python3",
      "display_name": "Python 3"
    },
    "language_info": {
      "name": "python"
    }
  },
  "cells": [
    {
      "cell_type": "markdown",
      "metadata": {
        "id": "view-in-github",
        "colab_type": "text"
      },
      "source": [
        "<a href=\"https://colab.research.google.com/github/kurtlee1984/Machine_Learning/blob/main/cluster_practice.ipynb\" target=\"_parent\"><img src=\"https://colab.research.google.com/assets/colab-badge.svg\" alt=\"Open In Colab\"/></a>"
      ]
    },
    {
      "cell_type": "code",
      "metadata": {
        "colab": {
          "base_uri": "https://localhost:8080/",
          "height": 424
        },
        "id": "x-4p5y544rJp",
        "outputId": "72f12ad8-c8d5-445f-d881-0f57fe4b407a"
      },
      "source": [
        "from sklearn.datasets import load_iris\n",
        "import pandas as pd\n",
        "iris_data = load_iris()\n",
        "df = pd.DataFrame(iris_data[\"data\"], columns=iris_data[\"feature_names\"])\n",
        "df[\"target\"] = iris_data[\"target\"]\n",
        "df"
      ],
      "execution_count": 3,
      "outputs": [
        {
          "output_type": "execute_result",
          "data": {
            "text/html": [
              "<div>\n",
              "<style scoped>\n",
              "    .dataframe tbody tr th:only-of-type {\n",
              "        vertical-align: middle;\n",
              "    }\n",
              "\n",
              "    .dataframe tbody tr th {\n",
              "        vertical-align: top;\n",
              "    }\n",
              "\n",
              "    .dataframe thead th {\n",
              "        text-align: right;\n",
              "    }\n",
              "</style>\n",
              "<table border=\"1\" class=\"dataframe\">\n",
              "  <thead>\n",
              "    <tr style=\"text-align: right;\">\n",
              "      <th></th>\n",
              "      <th>sepal length (cm)</th>\n",
              "      <th>sepal width (cm)</th>\n",
              "      <th>petal length (cm)</th>\n",
              "      <th>petal width (cm)</th>\n",
              "      <th>target</th>\n",
              "    </tr>\n",
              "  </thead>\n",
              "  <tbody>\n",
              "    <tr>\n",
              "      <th>0</th>\n",
              "      <td>5.1</td>\n",
              "      <td>3.5</td>\n",
              "      <td>1.4</td>\n",
              "      <td>0.2</td>\n",
              "      <td>0</td>\n",
              "    </tr>\n",
              "    <tr>\n",
              "      <th>1</th>\n",
              "      <td>4.9</td>\n",
              "      <td>3.0</td>\n",
              "      <td>1.4</td>\n",
              "      <td>0.2</td>\n",
              "      <td>0</td>\n",
              "    </tr>\n",
              "    <tr>\n",
              "      <th>2</th>\n",
              "      <td>4.7</td>\n",
              "      <td>3.2</td>\n",
              "      <td>1.3</td>\n",
              "      <td>0.2</td>\n",
              "      <td>0</td>\n",
              "    </tr>\n",
              "    <tr>\n",
              "      <th>3</th>\n",
              "      <td>4.6</td>\n",
              "      <td>3.1</td>\n",
              "      <td>1.5</td>\n",
              "      <td>0.2</td>\n",
              "      <td>0</td>\n",
              "    </tr>\n",
              "    <tr>\n",
              "      <th>4</th>\n",
              "      <td>5.0</td>\n",
              "      <td>3.6</td>\n",
              "      <td>1.4</td>\n",
              "      <td>0.2</td>\n",
              "      <td>0</td>\n",
              "    </tr>\n",
              "    <tr>\n",
              "      <th>...</th>\n",
              "      <td>...</td>\n",
              "      <td>...</td>\n",
              "      <td>...</td>\n",
              "      <td>...</td>\n",
              "      <td>...</td>\n",
              "    </tr>\n",
              "    <tr>\n",
              "      <th>145</th>\n",
              "      <td>6.7</td>\n",
              "      <td>3.0</td>\n",
              "      <td>5.2</td>\n",
              "      <td>2.3</td>\n",
              "      <td>2</td>\n",
              "    </tr>\n",
              "    <tr>\n",
              "      <th>146</th>\n",
              "      <td>6.3</td>\n",
              "      <td>2.5</td>\n",
              "      <td>5.0</td>\n",
              "      <td>1.9</td>\n",
              "      <td>2</td>\n",
              "    </tr>\n",
              "    <tr>\n",
              "      <th>147</th>\n",
              "      <td>6.5</td>\n",
              "      <td>3.0</td>\n",
              "      <td>5.2</td>\n",
              "      <td>2.0</td>\n",
              "      <td>2</td>\n",
              "    </tr>\n",
              "    <tr>\n",
              "      <th>148</th>\n",
              "      <td>6.2</td>\n",
              "      <td>3.4</td>\n",
              "      <td>5.4</td>\n",
              "      <td>2.3</td>\n",
              "      <td>2</td>\n",
              "    </tr>\n",
              "    <tr>\n",
              "      <th>149</th>\n",
              "      <td>5.9</td>\n",
              "      <td>3.0</td>\n",
              "      <td>5.1</td>\n",
              "      <td>1.8</td>\n",
              "      <td>2</td>\n",
              "    </tr>\n",
              "  </tbody>\n",
              "</table>\n",
              "<p>150 rows × 5 columns</p>\n",
              "</div>"
            ],
            "text/plain": [
              "     sepal length (cm)  sepal width (cm)  ...  petal width (cm)  target\n",
              "0                  5.1               3.5  ...               0.2       0\n",
              "1                  4.9               3.0  ...               0.2       0\n",
              "2                  4.7               3.2  ...               0.2       0\n",
              "3                  4.6               3.1  ...               0.2       0\n",
              "4                  5.0               3.6  ...               0.2       0\n",
              "..                 ...               ...  ...               ...     ...\n",
              "145                6.7               3.0  ...               2.3       2\n",
              "146                6.3               2.5  ...               1.9       2\n",
              "147                6.5               3.0  ...               2.0       2\n",
              "148                6.2               3.4  ...               2.3       2\n",
              "149                5.9               3.0  ...               1.8       2\n",
              "\n",
              "[150 rows x 5 columns]"
            ]
          },
          "metadata": {
            "tags": []
          },
          "execution_count": 3
        }
      ]
    },
    {
      "cell_type": "code",
      "metadata": {
        "colab": {
          "base_uri": "https://localhost:8080/"
        },
        "id": "E60_Z3FG685p",
        "outputId": "6c66ba65-bd0e-4852-bf4f-cd3f5e69b81f"
      },
      "source": [
        "import numpy as np\n",
        "from sklearn.model_selection import train_test_split\n",
        "x = df.drop([\"target\"], axis=1)\n",
        "y = df[\"target\"] \n",
        "x = np.array(x)\n",
        "y = np.array(y)\n",
        "x_train, x_test, y_treain, y_test = train_test_split(x, y, test_size=0.1)\n",
        "\n",
        "print(x_train.shape)\n",
        "print(x_test.shape)"
      ],
      "execution_count": 4,
      "outputs": [
        {
          "output_type": "stream",
          "text": [
            "(135, 4)\n",
            "(15, 4)\n"
          ],
          "name": "stdout"
        }
      ]
    },
    {
      "cell_type": "code",
      "metadata": {
        "colab": {
          "base_uri": "https://localhost:8080/"
        },
        "id": "1w_JnhzI9cEN",
        "outputId": "41fcc2a4-1ab8-45a7-d3b6-9263c5df3db6"
      },
      "source": [
        "from sklearn.cluster import KMeans\n",
        "clu = KMeans(n_clusters=3)\n",
        "clu.fit(x_train)"
      ],
      "execution_count": 5,
      "outputs": [
        {
          "output_type": "execute_result",
          "data": {
            "text/plain": [
              "KMeans(algorithm='auto', copy_x=True, init='k-means++', max_iter=300,\n",
              "       n_clusters=3, n_init=10, n_jobs=None, precompute_distances='auto',\n",
              "       random_state=None, tol=0.0001, verbose=0)"
            ]
          },
          "metadata": {
            "tags": []
          },
          "execution_count": 5
        }
      ]
    },
    {
      "cell_type": "code",
      "metadata": {
        "colab": {
          "base_uri": "https://localhost:8080/"
        },
        "id": "8yAk-DClK5da",
        "outputId": "07494fd5-fedb-41fe-b96e-a5ed9aba7e95"
      },
      "source": [
        "clu.labels_"
      ],
      "execution_count": 6,
      "outputs": [
        {
          "output_type": "execute_result",
          "data": {
            "text/plain": [
              "array([0, 0, 2, 0, 1, 1, 2, 1, 0, 0, 0, 0, 0, 2, 1, 1, 2, 1, 0, 1, 0, 2,\n",
              "       0, 1, 1, 1, 2, 1, 1, 2, 1, 0, 1, 0, 1, 1, 0, 1, 1, 0, 1, 2, 1, 0,\n",
              "       1, 1, 0, 2, 0, 0, 1, 2, 2, 2, 0, 0, 2, 2, 1, 2, 2, 0, 1, 0, 0, 0,\n",
              "       1, 0, 0, 0, 0, 2, 1, 1, 2, 2, 2, 0, 2, 1, 1, 0, 1, 1, 1, 1, 0, 1,\n",
              "       2, 1, 0, 1, 0, 0, 2, 1, 1, 1, 1, 0, 2, 1, 1, 2, 2, 2, 1, 1, 1, 2,\n",
              "       1, 0, 1, 1, 2, 0, 2, 2, 0, 0, 2, 1, 1, 0, 0, 0, 1, 2, 2, 1, 1, 0,\n",
              "       1, 2, 1], dtype=int32)"
            ]
          },
          "metadata": {
            "tags": []
          },
          "execution_count": 6
        }
      ]
    },
    {
      "cell_type": "code",
      "metadata": {
        "colab": {
          "base_uri": "https://localhost:8080/"
        },
        "id": "egD-ro1_LtUJ",
        "outputId": "26fadb43-7f3d-4680-a5b4-756eb9f9bb71"
      },
      "source": [
        "print(\"預測的結果:\", list(clu.predict(x_test)))\n",
        "print(\"正確的結果:\", list(y_test))\n",
        "\n",
        "from sklearn.metrics import accuracy_score\n",
        "score = accuracy_score(y_test, clu.predict(x_test))\n",
        "print(\"正確率:\", score)"
      ],
      "execution_count": 7,
      "outputs": [
        {
          "output_type": "stream",
          "text": [
            "預測的結果: [0, 1, 0, 1, 0, 2, 1, 2, 1, 0, 0, 2, 1, 0, 1]\n",
            "正確的結果: [0, 1, 0, 2, 0, 2, 1, 2, 1, 0, 0, 2, 1, 0, 1]\n",
            "正確率: 0.9333333333333333\n"
          ],
          "name": "stdout"
        }
      ]
    },
    {
      "cell_type": "code",
      "metadata": {
        "colab": {
          "base_uri": "https://localhost:8080/"
        },
        "id": "TDdYQJqmSaLn",
        "outputId": "37763487-5858-463b-a80e-20095eae3a8c"
      },
      "source": [
        "from sklearn.metrics import silhouette_score\n",
        "x = df.drop([\"target\"], axis=1)\n",
        "x_plot = []\n",
        "y_plot = []\n",
        "# x\n",
        "for k in range(2, 6):\n",
        "  clu = KMeans(n_clusters=k)\n",
        "  clu.fit(x)\n",
        "  s = silhouette_score(x, clu.labels_)\n",
        "  x_plot.append(k)\n",
        "  y_plot.append(s)\n",
        "print(\"K值\", x_plot)\n",
        "print(\"Score\", y_plot)"
      ],
      "execution_count": 8,
      "outputs": [
        {
          "output_type": "stream",
          "text": [
            "K值 [2, 3, 4, 5]\n",
            "Score [0.681046169211746, 0.5528190123564091, 0.49745518901737446, 0.4887488870931048]\n"
          ],
          "name": "stdout"
        }
      ]
    },
    {
      "cell_type": "code",
      "metadata": {
        "colab": {
          "base_uri": "https://localhost:8080/",
          "height": 313
        },
        "id": "cFysqGGsXVpg",
        "outputId": "efffbf29-b11c-4eb0-87f9-51938709aa6f"
      },
      "source": [
        "import matplotlib.pyplot as plt\n",
        "%matplotlib inline\n",
        "plt.plot(x_plot, y_plot, \"mv:\")\n",
        "plt.title(\"silhouette_scroe\")\n",
        "plt.xlabel(\"X\")\n",
        "plt.ylabel(\"Score\")\n",
        "# plt.show"
      ],
      "execution_count": 20,
      "outputs": [
        {
          "output_type": "execute_result",
          "data": {
            "text/plain": [
              "Text(0, 0.5, 'Score')"
            ]
          },
          "metadata": {
            "tags": []
          },
          "execution_count": 20
        },
        {
          "output_type": "display_data",
          "data": {
            "image/png": "[encoded data removed]",
            "text/plain": [
              "<Figure size 432x288 with 1 Axes>"
            ]
          },
          "metadata": {
            "tags": [],
            "needs_background": "light"
          }
        }
      ]
    },
    {
      "cell_type": "code",
      "metadata": {
        "id": "eqIAtnitFvrq",
        "outputId": "632b7c7d-69d5-4f41-9ce2-d0cb265ae8eb",
        "colab": {
          "base_uri": "https://localhost:8080/"
        }
      },
      "source": [
        "from sklearn.metrics import silhouette_score\n",
        "for k in range(2, 10):\n",
        "  test = KMeans(n_clusters=k)\n",
        "  test.fit(iris_data[\"data\"])\n",
        "  score = silhouette_score(iris_data[\"data\"], test.labels_)\n",
        "  print(k, \":\", score)"
      ],
      "execution_count": 27,
      "outputs": [
        {
          "output_type": "stream",
          "text": [
            "2 : 0.681046169211746\n",
            "3 : 0.5528190123564091\n",
            "4 : 0.49745518901737446\n",
            "5 : 0.4887488870931048\n",
            "6 : 0.3678464984712235\n",
            "7 : 0.3588294450965675\n",
            "8 : 0.3520039484603334\n",
            "9 : 0.3439103447481878\n"
          ],
          "name": "stdout"
        }
      ]
    },
    {
      "cell_type": "code",
      "metadata": {
        "colab": {
          "base_uri": "https://localhost:8080/",
          "height": 313
        },
        "id": "UbMcxg8xanw3",
        "outputId": "06083eb7-89b7-4487-ae77-2e7845d56209"
      },
      "source": [
        "import matplotlib.pyplot as plt\n",
        "import seaborn as sns\n",
        "plt.title(\"scatterplot\")\n",
        "plt.xlabel(iris_data[\"feature_names\"][0])\n",
        "plt.ylabel(iris_data[\"feature_names\"][2])\n",
        "sl = iris_data[\"data\"][:, 0]\n",
        "pl = iris_data[\"data\"][:, 2]\n",
        "sns.scatterplot(x=sl, y=pl, hue=iris_data[\"target\"], palette=sns.color_palette(\"hls\", 3))"
      ],
      "execution_count": 28,
      "outputs": [
        {
          "output_type": "execute_result",
          "data": {
            "text/plain": [
              "<matplotlib.axes._subplots.AxesSubplot at 0x7f6ef0e67250>"
            ]
          },
          "metadata": {
            "tags": []
          },
          "execution_count": 28
        },
        {
          "output_type": "display_data",
          "data": {
            "image/png": "[encoded data removed]",
            "text/plain": [
              "<Figure size 432x288 with 1 Axes>"
            ]
          },
          "metadata": {
            "tags": [],
            "needs_background": "light"
          }
        }
      ]
    }
  ]
}